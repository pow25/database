{
 "cells": [
  {
   "cell_type": "code",
   "execution_count": 67,
   "metadata": {},
   "outputs": [],
   "source": [
    "import csv          # Python package for reading and writing CSV files.\n",
    "import copy         # Copy data structures.\n",
    "import json\n",
    "\n",
    "import sys,os\n",
    "\n",
    "# You can change to wherever you want to place your CSV files.\n",
    "rel_path = os.path.realpath('./data/')"
   ]
  },
  {
   "cell_type": "code",
   "execution_count": 68,
   "metadata": {},
   "outputs": [],
   "source": [
    "class CSVTable():\n",
    "\n",
    "    # Change to wherever you want to save the CSV files.\n",
    "\n",
    "    def __init__(self, table_name, table_file, key_columns):\n",
    "        '''\n",
    "        Constructor\n",
    "        :param table_name: Logical names for the data table.\n",
    "        :param table_file: File name of CSV file to read/write.\n",
    "        :param key_columns: List of column names the form the primary key.\n",
    "        '''\n",
    "        self.table_name = table_name\n",
    "        self.table_file = rel_path + table_file\n",
    "        self.key_columns = key_columns\n",
    "        self.data = []\n",
    "    def load(self):\n",
    "        '''\n",
    "        Load information from CSV file.\n",
    "        :return: None\n",
    "        '''\n",
    "        with open(self.table_file, mode = 'r') as csv_file:\n",
    "            csv_reader = csv.DictReader(csv_file)\n",
    "            for i in csv_reader:\n",
    "                self.data.append(i)\n",
    "                \n",
    "                \n",
    "    def find_by_primary_key(self, string_set, fields=None):\n",
    "        \n",
    "        if fields == None:\n",
    "            for i in self.data:\n",
    "                count_match = 0\n",
    "                for j in range(string_set):\n",
    "                    if i[self.key_columns[j]] == string_set[j]:\n",
    "                        count_match += 1\n",
    "                if count_match == len(self.key_columns):\n",
    "                    return i\n",
    "        else:\n",
    "            unwanted = self.data[0].keys() - fields\n",
    "            for i in self.data:\n",
    "                count_match = 0\n",
    "                for j in range(string_set):\n",
    "                    if i[self.key_columns[j]] == string_set[j]:\n",
    "                        count_match += 1\n",
    "                if count_match == len(self.key_columns):\n",
    "                    for unwanted_key in unwanted:\n",
    "                        del i[unwanted_key]\n",
    "                    return i\n",
    "\n",
    "        return None      \n",
    "        \n",
    "    def find_by_template(self, t, fields=None):\n",
    "        '''\n",
    "        Return a table containing the rows matching the template and field selector.\n",
    "        :param t: Template that the rows much match.\n",
    "        :param fields: A list of columns to include in responses.\n",
    "        :return: CSVTable containing the answer.\n",
    "        '''\n",
    "        result = []\n",
    "        if fields == None:\n",
    "            keys = t.keys()\n",
    "            for i in self.data:\n",
    "                count_match = 0\n",
    "                for key in keys:\n",
    "                    if i[key] == t[key]:\n",
    "                        count_match += 1\n",
    "                \n",
    "                if count_match == len(keys):\n",
    "                    result.append(i)\n",
    "        else:\n",
    "            keys = t.keys()\n",
    "            unwanted = self.data[0].keys() - fields\n",
    "            for i in self.data:\n",
    "                count_match = 0\n",
    "                for key in keys:\n",
    "                    if i[key] == t[key]:\n",
    "                        count_match += 1\n",
    "                \n",
    "                if count_match == len(keys):\n",
    "                    for unwanted_key in unwanted:\n",
    "                        del i[unwanted_key]\n",
    "                    result.append(i)\n",
    "        \n",
    "        return result\n",
    "        \n",
    "    def insert(self, r):\n",
    "        '''\n",
    "        Insert a new row into the table.\n",
    "        :param r: New row.\n",
    "        :return: None. Table state is updated.\n",
    "        '''\n",
    "        self.data.append(r)\n",
    "    \n",
    "    def delete(self, t):\n",
    "        '''\n",
    "        Delete all tuples matching the template.\n",
    "        :param t: Template\n",
    "        :return: None. Table is updated.\n",
    "        '''\n",
    "        keys = t.keys()\n",
    "        for i in self.data:\n",
    "            count_match = 0\n",
    "            for key in keys:\n",
    "                if i[key] == t[key]:\n",
    "                    count_match += 1\n",
    "            \n",
    "            if count_match == len(keys):\n",
    "                self.data.remove(i)\n",
    "        "
   ]
  },
  {
   "cell_type": "code",
   "execution_count": 69,
   "metadata": {},
   "outputs": [
    {
     "ename": "FileNotFoundError",
     "evalue": "[Errno 2] No such file or directory: 'D:\\\\Courses\\\\Introduction to Database\\\\Projects\\\\HW1\\\\DataPeople.csv'",
     "output_type": "error",
     "traceback": [
      "\u001b[1;31m---------------------------------------------------------------------------\u001b[0m",
      "\u001b[1;31mFileNotFoundError\u001b[0m                         Traceback (most recent call last)",
      "\u001b[1;32m<ipython-input-69-97048c01a8c1>\u001b[0m in \u001b[0;36m<module>\u001b[1;34m()\u001b[0m\n\u001b[0;32m      8\u001b[0m     \u001b[0mprint\u001b[0m\u001b[1;33m(\u001b[0m\u001b[0mjson\u001b[0m\u001b[1;33m.\u001b[0m\u001b[0mdumps\u001b[0m\u001b[1;33m(\u001b[0m\u001b[0mresult\u001b[0m\u001b[1;33m,\u001b[0m \u001b[0mindent\u001b[0m\u001b[1;33m=\u001b[0m\u001b[1;36m2\u001b[0m\u001b[1;33m)\u001b[0m\u001b[1;33m)\u001b[0m\u001b[1;33m\u001b[0m\u001b[0m\n\u001b[0;32m      9\u001b[0m \u001b[1;33m\u001b[0m\u001b[0m\n\u001b[1;32m---> 10\u001b[1;33m \u001b[0mtest1\u001b[0m\u001b[1;33m(\u001b[0m\u001b[1;33m)\u001b[0m\u001b[1;33m\u001b[0m\u001b[0m\n\u001b[0m",
      "\u001b[1;32m<ipython-input-69-97048c01a8c1>\u001b[0m in \u001b[0;36mtest1\u001b[1;34m()\u001b[0m\n\u001b[0;32m      2\u001b[0m \u001b[1;33m\u001b[0m\u001b[0m\n\u001b[0;32m      3\u001b[0m     \u001b[0mcsvt\u001b[0m \u001b[1;33m=\u001b[0m \u001b[0mCSVTable\u001b[0m\u001b[1;33m(\u001b[0m\u001b[1;34m\"People\"\u001b[0m\u001b[1;33m,\u001b[0m \u001b[1;34m\"People.csv\"\u001b[0m\u001b[1;33m,\u001b[0m \u001b[1;33m[\u001b[0m\u001b[1;34m\"playerID\"\u001b[0m\u001b[1;33m]\u001b[0m\u001b[1;33m)\u001b[0m\u001b[1;33m\u001b[0m\u001b[0m\n\u001b[1;32m----> 4\u001b[1;33m     \u001b[0mcsvt\u001b[0m\u001b[1;33m.\u001b[0m\u001b[0mload\u001b[0m\u001b[1;33m(\u001b[0m\u001b[1;33m)\u001b[0m\u001b[1;33m\u001b[0m\u001b[0m\n\u001b[0m\u001b[0;32m      5\u001b[0m     \u001b[0mt2\u001b[0m \u001b[1;33m=\u001b[0m \u001b[1;33m{\u001b[0m \u001b[1;34m\"nameLast\"\u001b[0m\u001b[1;33m:\u001b[0m \u001b[1;34m\"Williams\"\u001b[0m\u001b[1;33m,\u001b[0m \u001b[1;34m\"throws\"\u001b[0m\u001b[1;33m:\u001b[0m \u001b[1;34m\"R\"\u001b[0m\u001b[1;33m}\u001b[0m\u001b[1;33m\u001b[0m\u001b[0m\n\u001b[0;32m      6\u001b[0m     \u001b[0mfields2\u001b[0m \u001b[1;33m=\u001b[0m \u001b[1;33m[\u001b[0m\u001b[1;34m'nameLast'\u001b[0m\u001b[1;33m,\u001b[0m \u001b[1;34m'nameFirst'\u001b[0m\u001b[1;33m,\u001b[0m \u001b[1;34m'birthCountry'\u001b[0m\u001b[1;33m,\u001b[0m \u001b[1;34m'throws'\u001b[0m\u001b[1;33m,\u001b[0m \u001b[1;34m'bats'\u001b[0m\u001b[1;33m]\u001b[0m\u001b[1;33m\u001b[0m\u001b[0m\n",
      "\u001b[1;32m<ipython-input-68-efd52b791f1b>\u001b[0m in \u001b[0;36mload\u001b[1;34m(self)\u001b[0m\n\u001b[0;32m     19\u001b[0m         \u001b[1;33m:\u001b[0m\u001b[1;32mreturn\u001b[0m\u001b[1;33m:\u001b[0m \u001b[1;32mNone\u001b[0m\u001b[1;33m\u001b[0m\u001b[0m\n\u001b[0;32m     20\u001b[0m         '''\n\u001b[1;32m---> 21\u001b[1;33m         \u001b[1;32mwith\u001b[0m \u001b[0mopen\u001b[0m\u001b[1;33m(\u001b[0m\u001b[0mself\u001b[0m\u001b[1;33m.\u001b[0m\u001b[0mtable_file\u001b[0m\u001b[1;33m,\u001b[0m \u001b[0mmode\u001b[0m \u001b[1;33m=\u001b[0m \u001b[1;34m'r'\u001b[0m\u001b[1;33m)\u001b[0m \u001b[1;32mas\u001b[0m \u001b[0mcsv_file\u001b[0m\u001b[1;33m:\u001b[0m\u001b[1;33m\u001b[0m\u001b[0m\n\u001b[0m\u001b[0;32m     22\u001b[0m             \u001b[0mcsv_reader\u001b[0m \u001b[1;33m=\u001b[0m \u001b[0mcsv\u001b[0m\u001b[1;33m.\u001b[0m\u001b[0mDictReader\u001b[0m\u001b[1;33m(\u001b[0m\u001b[0mcsv_file\u001b[0m\u001b[1;33m)\u001b[0m\u001b[1;33m\u001b[0m\u001b[0m\n\u001b[0;32m     23\u001b[0m             \u001b[1;32mfor\u001b[0m \u001b[0mi\u001b[0m \u001b[1;32min\u001b[0m \u001b[0mcsv_reader\u001b[0m\u001b[1;33m:\u001b[0m\u001b[1;33m\u001b[0m\u001b[0m\n",
      "\u001b[1;31mFileNotFoundError\u001b[0m: [Errno 2] No such file or directory: 'D:\\\\Courses\\\\Introduction to Database\\\\Projects\\\\HW1\\\\DataPeople.csv'"
     ]
    }
   ],
   "source": [
    "def test1():\n",
    "\n",
    "    csvt = CSVTable(\"People\", \"People.csv\", [\"playerID\"])\n",
    "    csvt.load()\n",
    "    t2 = { \"nameLast\": \"Williams\", \"throws\": \"R\"}\n",
    "    fields2 = ['nameLast', 'nameFirst', 'birthCountry', 'throws', 'bats']\n",
    "    result = csvt.find_by_template(t2,fields2)\n",
    "    print(json.dumps(result, indent=2))\n",
    "\n",
    "test1()"
   ]
  },
  {
   "cell_type": "code",
   "execution_count": 66,
   "metadata": {},
   "outputs": [
    {
     "name": "stdout",
     "output_type": "stream",
     "text": [
      "[1, 2, 3, 5]\n"
     ]
    }
   ],
   "source": [
    "a = [1,2,3,4,5]\n",
    "\n",
    "for i in a:\n",
    "    if i == 4:\n",
    "        a.remove(i)\n",
    "    \n",
    "print(a)\n"
   ]
  },
  {
   "cell_type": "code",
   "execution_count": null,
   "metadata": {},
   "outputs": [],
   "source": []
  }
 ],
 "metadata": {
  "kernelspec": {
   "display_name": "Python 3",
   "language": "python",
   "name": "python3"
  },
  "language_info": {
   "codemirror_mode": {
    "name": "ipython",
    "version": 3
   },
   "file_extension": ".py",
   "mimetype": "text/x-python",
   "name": "python",
   "nbconvert_exporter": "python",
   "pygments_lexer": "ipython3",
   "version": "3.6.5"
  }
 },
 "nbformat": 4,
 "nbformat_minor": 2
}
